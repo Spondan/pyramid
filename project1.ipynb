{
 "cells": [
  {
   "cell_type": "code",
   "execution_count": null,
   "metadata": {},
   "outputs": [],
   "source": [
    "print(\"Welcome to number of days calculator \")\n",
    "print(\"Enter your birth date in the following format: \\nDD/MM/YYYY\")\n",
    "birth_date = input()\n",
    "if birth_date[2]!=\"/\" and birth_date[5]!=\"/\":\n",
    "    print(\"Enter date in correct format\")\n",
    "\n",
    "birth_day =int(birth_date[:2])\n",
    "birth_month =int(birth_date[3:5])\n",
    "birth_year = int(birth_date[6:])\n",
    "\n",
    "print(\"Enter the current date in the following format: \\nDD/MM/YYYY\")\n",
    "current_date=input()\n",
    "if current_date[2]!=\"/\" and current_date[5]!=\"/\":\n",
    "    print(\"Enter date in correct format\")\n",
    "current_year = int(current_date[6:])\n",
    "current_month =int(current_date[3:5])\n",
    "current_day =int(current_date[:2])\n",
    "\n",
    "extra_days =  ((current_year - birth_year) // 4) +((current_year - birth_year) // 400) + 1\n",
    "\n",
    "this_year_days = 355 #Jan=31, Feb=28 ---- Nov=30,Dec=21\n",
    "\n",
    "birth_year_days = birth_day + ((birth_month - 1)*30)\n",
    "\n",
    "total_days = ((current_year - birth_year)*365) + (this_year_days + birth_year_days) + extra_days\n",
    "\n",
    "print(\"Number of days you ruled/survived this world is:\",total_days)"
   ]
  }
 ],
 "metadata": {
  "language_info": {
   "name": "python"
  },
  "orig_nbformat": 4
 },
 "nbformat": 4,
 "nbformat_minor": 2
}
